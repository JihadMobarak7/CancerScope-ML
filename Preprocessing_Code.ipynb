{
 "cells": [
  {
   "cell_type": "code",
   "execution_count": 1,
   "metadata": {},
   "outputs": [
    {
     "name": "stderr",
     "output_type": "stream",
     "text": [
      "C:\\Users\\Hassa\\AppData\\Local\\Temp\\ipykernel_32276\\1875534014.py:6: DtypeWarning: Columns (662,664,676,677,683,685,686,687) have mixed types. Specify dtype option on import or set low_memory=False.\n",
      "  data = pd.read_csv(\"Original_data_breast.csv\")\n"
     ]
    }
   ],
   "source": [
    "import pandas as pd\n",
    "import pandas as pd\n",
    "import pandas as pd\n",
    "from sklearn.model_selection import train_test_split\n",
    "\n",
    "data = pd.read_csv(\"Original_data_breast.csv\")\n",
    "part1 = data.iloc[:,:26]\n",
    "part2 = data.iloc[:,27:515]\n",
    "part3 = data.iloc[:,516:]\n",
    "\n",
    "part1.to_csv(\"Version1_data_breast.csv\",index = False)\n",
    "part2.to_csv(\"Version2_data_breast.csv\",index = False)\n",
    "part3.to_csv(\"Version3_data_breast.csv\",index = False)"
   ]
  },
  {
   "cell_type": "code",
   "execution_count": 2,
   "metadata": {},
   "outputs": [],
   "source": [
    "import pandas as pd\n",
    "data = pd.read_csv(\"Version1_data_breast.csv\")\n",
    "mapping = {\"Breast Invasive Ductal Carcinoma\" : 0,\n",
    "            \"Breast Mixed Ductal and Lobular Carcinoma\" : 1,\n",
    "            \"Breast Invasive Lobular Carcinoma\" : 2,\n",
    "            \"Breast Invasive Mixed Mucinous Carcinoma\" : 3}\n",
    "\n",
    "data[\"cancer_type\"] = data[\"cancer_type\"].map(mapping)\n",
    "data.to_csv(\"Version1_data_breast.csv\", index = False)"
   ]
  },
  {
   "cell_type": "code",
   "execution_count": 3,
   "metadata": {},
   "outputs": [],
   "source": [
    "\n",
    "data = data.drop(columns=[\"patient_id\"], errors='ignore')\n",
    "data.to_csv(\"Version1_data_breast.csv\", index=False)\n"
   ]
  },
  {
   "cell_type": "code",
   "execution_count": 4,
   "metadata": {},
   "outputs": [],
   "source": [
    "from sklearn.preprocessing import MinMaxScaler\n",
    "scaler = MinMaxScaler()\n",
    "data['age_at_diagnosis'] = scaler.fit_transform(data[['age_at_diagnosis']])\n",
    "data.to_csv(\"Version1_data_breast.csv\", index=False)"
   ]
  },
  {
   "cell_type": "code",
   "execution_count": 5,
   "metadata": {},
   "outputs": [
    {
     "name": "stdout",
     "output_type": "stream",
     "text": [
      "['High' 'Moderate' 'Low' nan]\n"
     ]
    }
   ],
   "source": [
    "a = data[\"cellularity\"].unique()\n",
    "print(a)\n",
    "\n",
    "\n",
    "most_frequent_value = data['cellularity'].mode()[0]\n",
    "data['cellularity'] = data['cellularity'].fillna(most_frequent_value)\n",
    "\n"
   ]
  },
  {
   "cell_type": "code",
   "execution_count": 6,
   "metadata": {},
   "outputs": [],
   "source": [
    "\n",
    "mapping = {\"High\" : 0.9,\n",
    "            \"Moderate\" : 0.5,\n",
    "            \"Low\" : 0.1,\n",
    "        }\n",
    "\n",
    "data[\"cellularity\"] = data[\"cellularity\"].map(mapping)\n",
    "data.to_csv(\"Version1_data_breast.csv\", index = False)"
   ]
  },
  {
   "cell_type": "code",
   "execution_count": 7,
   "metadata": {},
   "outputs": [],
   "source": [
    "\n",
    "data = data.drop(columns=[\"chemotherapy\"], errors='ignore')\n",
    "data.to_csv(\"Version1_data_breast.csv\", index=False)\n"
   ]
  },
  {
   "cell_type": "code",
   "execution_count": 8,
   "metadata": {},
   "outputs": [
    {
     "name": "stdout",
     "output_type": "stream",
     "text": [
      "['LumB' 'LumA' 'Her2' 'claudin-low' 'Normal' 'Basal' 'NC']\n"
     ]
    }
   ],
   "source": [
    "a = data[\"pam50_+_claudin-low_subtype\"].unique()\n",
    "print(a)"
   ]
  },
  {
   "cell_type": "code",
   "execution_count": 9,
   "metadata": {},
   "outputs": [],
   "source": [
    "from sklearn.preprocessing import LabelEncoder\n",
    "from sklearn.preprocessing import MinMaxScaler\n",
    "scaler = MinMaxScaler()\n",
    "\n",
    "label_encoder = LabelEncoder()\n",
    "data['pam50_+_claudin-low_subtype'] = label_encoder.fit_transform(data['pam50_+_claudin-low_subtype'])\n",
    "data.to_csv(\"Version1_data_breast.csv\", index=False)\n",
    "\n",
    "\n",
    "data['pam50_+_claudin-low_subtype'] = scaler.fit_transform(data[['pam50_+_claudin-low_subtype']])\n",
    "data.to_csv(\"Version1_data_breast.csv\", index=False)"
   ]
  },
  {
   "cell_type": "code",
   "execution_count": 10,
   "metadata": {},
   "outputs": [
    {
     "name": "stdout",
     "output_type": "stream",
     "text": [
      "[0.5        0.33333333 0.16666667 1.         0.83333333 0.\n",
      " 0.66666667]\n"
     ]
    }
   ],
   "source": [
    "a = data[\"pam50_+_claudin-low_subtype\"].unique()\n",
    "print(a)"
   ]
  },
  {
   "cell_type": "code",
   "execution_count": 11,
   "metadata": {},
   "outputs": [
    {
     "name": "stdout",
     "output_type": "stream",
     "text": [
      "[1 4 3 5 2]\n"
     ]
    }
   ],
   "source": [
    "a = data[\"cohort\"].unique()\n",
    "print(a)"
   ]
  },
  {
   "cell_type": "code",
   "execution_count": 12,
   "metadata": {},
   "outputs": [],
   "source": [
    "from sklearn.preprocessing import MinMaxScaler\n",
    "\n",
    "scaler = MinMaxScaler()\n",
    "data['cohort'] = scaler.fit_transform(data[['cohort']])\n",
    "data.to_csv(\"Version1_data_breast.csv\", index=False)\n"
   ]
  },
  {
   "cell_type": "code",
   "execution_count": 13,
   "metadata": {},
   "outputs": [
    {
     "name": "stdout",
     "output_type": "stream",
     "text": [
      "[0.   0.75 0.5  1.   0.25]\n"
     ]
    }
   ],
   "source": [
    "a = data[\"cohort\"].unique()\n",
    "print(a)"
   ]
  },
  {
   "cell_type": "code",
   "execution_count": 14,
   "metadata": {},
   "outputs": [
    {
     "name": "stdout",
     "output_type": "stream",
     "text": [
      "['Positve' 'Negative' nan]\n"
     ]
    }
   ],
   "source": [
    "a = data[\"er_status_measured_by_ihc\"].unique()\n",
    "print(a)"
   ]
  },
  {
   "cell_type": "code",
   "execution_count": 15,
   "metadata": {},
   "outputs": [],
   "source": [
    "most_frequent_value = data['er_status_measured_by_ihc'].mode()[0]\n",
    "data['er_status_measured_by_ihc'] = data['er_status_measured_by_ihc'].fillna(most_frequent_value)\n",
    "\n",
    "mapping = {\"Positve\" : 1,\n",
    "           \"Negative\" : 0,\n",
    "        }\n",
    "\n",
    "data[\"er_status_measured_by_ihc\"] = data[\"er_status_measured_by_ihc\"].map(mapping)\n",
    "data.to_csv(\"Version1_data_breast.csv\", index = False)"
   ]
  },
  {
   "cell_type": "code",
   "execution_count": 16,
   "metadata": {},
   "outputs": [
    {
     "name": "stdout",
     "output_type": "stream",
     "text": [
      "['Positive' 'Negative']\n"
     ]
    }
   ],
   "source": [
    "a = data[\"er_status\"].unique()\n",
    "print(a)"
   ]
  },
  {
   "cell_type": "code",
   "execution_count": 17,
   "metadata": {},
   "outputs": [],
   "source": [
    "mapping = {\"Positive\" : 1,\n",
    "            \"Negative\" : 0,\n",
    "        }\n",
    "\n",
    "data[\"er_status\"] = data[\"er_status\"].map(mapping)\n",
    "data.to_csv(\"Version1_data_breast.csv\", index = False)"
   ]
  },
  {
   "cell_type": "code",
   "execution_count": 18,
   "metadata": {},
   "outputs": [
    {
     "name": "stdout",
     "output_type": "stream",
     "text": [
      "[ 3.  1.  2. nan]\n"
     ]
    }
   ],
   "source": [
    "\n",
    "a = data[\"neoplasm_histologic_grade\"].unique()\n",
    "print(a)"
   ]
  },
  {
   "cell_type": "code",
   "execution_count": 19,
   "metadata": {},
   "outputs": [],
   "source": [
    "from sklearn.preprocessing import LabelEncoder\n",
    "\n",
    "# Handle missing values by replacing NaN with the mode\n",
    "most_frequent_value = data['neoplasm_histologic_grade'].mode()[0]\n",
    "data['neoplasm_histologic_grade'] = data['neoplasm_histologic_grade'].fillna(most_frequent_value)\n",
    "\n",
    "data['neoplasm_histologic_grade'] = scaler.fit_transform(data[['neoplasm_histologic_grade']])\n",
    "data.to_csv(\"Version1_data_breast.csv\", index=False)\n"
   ]
  },
  {
   "cell_type": "code",
   "execution_count": 20,
   "metadata": {},
   "outputs": [
    {
     "name": "stdout",
     "output_type": "stream",
     "text": [
      "[1.  0.  0.5]\n"
     ]
    }
   ],
   "source": [
    "a = data[\"neoplasm_histologic_grade\"].unique()\n",
    "print(a)"
   ]
  },
  {
   "cell_type": "code",
   "execution_count": 21,
   "metadata": {},
   "outputs": [
    {
     "name": "stdout",
     "output_type": "stream",
     "text": [
      "['NEUTRAL' 'LOSS' 'GAIN' 'UNDEF']\n"
     ]
    }
   ],
   "source": [
    "a = data[\"her2_status_measured_by_snp6\"].unique()\n",
    "print(a)"
   ]
  },
  {
   "cell_type": "code",
   "execution_count": 22,
   "metadata": {},
   "outputs": [],
   "source": [
    "\n",
    "# Handle missing values by replacing NaN with the mode\n",
    "most_frequent_value = data['her2_status_measured_by_snp6'].mode()[0]\n",
    "data['her2_status_measured_by_snp6'] = data['her2_status_measured_by_snp6'].fillna(most_frequent_value)\n",
    "\n",
    "\n",
    "mapping = { \"LOSS\" : -1,\n",
    "            \"NEUTRAL\" : 0,\n",
    "            \"GAIN\" : 1\n",
    "          }\n",
    "\n",
    "data[\"her2_status_measured_by_snp6\"] = data[\"her2_status_measured_by_snp6\"].map(mapping)\n",
    "data.to_csv(\"Version1_data_breast.csv\", index = False)\n"
   ]
  },
  {
   "cell_type": "code",
   "execution_count": 23,
   "metadata": {},
   "outputs": [
    {
     "name": "stdout",
     "output_type": "stream",
     "text": [
      "['Negative' 'Positive']\n"
     ]
    }
   ],
   "source": [
    "a = data[\"her2_status\"].unique()\n",
    "print(a)"
   ]
  },
  {
   "cell_type": "code",
   "execution_count": 24,
   "metadata": {},
   "outputs": [],
   "source": [
    "mapping = { \"Positive\" : 1,\n",
    "            \"Negative\" : 0,\n",
    "          }\n",
    "data[\"her2_status\"] = data[\"her2_status\"].map(mapping)\n",
    "data.to_csv(\"Version1_data_breast.csv\", index = False)"
   ]
  },
  {
   "cell_type": "code",
   "execution_count": 25,
   "metadata": {},
   "outputs": [
    {
     "name": "stdout",
     "output_type": "stream",
     "text": [
      "[0 1]\n"
     ]
    }
   ],
   "source": [
    "a = data[\"her2_status\"].unique()\n",
    "print(a)"
   ]
  },
  {
   "cell_type": "code",
   "execution_count": 26,
   "metadata": {},
   "outputs": [
    {
     "name": "stdout",
     "output_type": "stream",
     "text": [
      "[1 0]\n"
     ]
    }
   ],
   "source": [
    "a = data[\"hormone_therapy\"].unique()\n",
    "print(a)"
   ]
  },
  {
   "cell_type": "code",
   "execution_count": 27,
   "metadata": {},
   "outputs": [
    {
     "name": "stdout",
     "output_type": "stream",
     "text": [
      "['Post' 'Pre']\n"
     ]
    }
   ],
   "source": [
    "\n",
    "a = data[\"inferred_menopausal_state\"].unique()\n",
    "print(a)\n",
    "\n"
   ]
  },
  {
   "cell_type": "code",
   "execution_count": 28,
   "metadata": {},
   "outputs": [],
   "source": [
    "mapping = { \"Post\" : 1,\n",
    "            \"Pre\" : -1,\n",
    "          }\n",
    "data[\"inferred_menopausal_state\"] = data[\"inferred_menopausal_state\"].map(mapping)\n",
    "data.to_csv(\"Version1_data_breast.csv\", index = False)"
   ]
  },
  {
   "cell_type": "code",
   "execution_count": 29,
   "metadata": {},
   "outputs": [
    {
     "name": "stdout",
     "output_type": "stream",
     "text": [
      "['Right' 'Left' nan]\n"
     ]
    }
   ],
   "source": [
    "a = data[\"primary_tumor_laterality\"].unique()\n",
    "print(a)\n",
    "\n"
   ]
  },
  {
   "cell_type": "code",
   "execution_count": 30,
   "metadata": {},
   "outputs": [],
   "source": [
    "most_frequent_value = data['primary_tumor_laterality'].mode()[0]\n",
    "data['primary_tumor_laterality'] = data['primary_tumor_laterality'].fillna(most_frequent_value)\n",
    "\n",
    "mapping = { \"Right\" : 1,\n",
    "            \"Left\" : -1,\n",
    "          }\n",
    "data[\"primary_tumor_laterality\"] = data[\"primary_tumor_laterality\"].map(mapping)\n",
    "data.to_csv(\"Version1_data_breast.csv\", index = False)\n"
   ]
  },
  {
   "cell_type": "code",
   "execution_count": 31,
   "metadata": {},
   "outputs": [
    {
     "name": "stdout",
     "output_type": "stream",
     "text": [
      "[ 1 -1]\n"
     ]
    }
   ],
   "source": [
    "a = data[\"primary_tumor_laterality\"].unique()\n",
    "print(a)\n"
   ]
  },
  {
   "cell_type": "code",
   "execution_count": 32,
   "metadata": {},
   "outputs": [
    {
     "name": "stdout",
     "output_type": "stream",
     "text": [
      "[ 3  0  6  2  4  5  1 14 20  9 12 21 15  7 26 16  8 13 17 10 22 11 18 24\n",
      " 25 19 31 45 23]\n"
     ]
    }
   ],
   "source": [
    "a = data[\"lymph_nodes_examined_positive\"].unique()\n",
    "print(a)\n"
   ]
  },
  {
   "cell_type": "code",
   "execution_count": 33,
   "metadata": {},
   "outputs": [],
   "source": [
    "from sklearn.preprocessing import MinMaxScaler\n",
    "\n",
    "scaler = MinMaxScaler()\n",
    "data['lymph_nodes_examined_positive'] = scaler.fit_transform(data[['lymph_nodes_examined_positive']])\n",
    "data.to_csv(\"Version1_data_breast.csv\", index = False)"
   ]
  },
  {
   "cell_type": "code",
   "execution_count": 34,
   "metadata": {},
   "outputs": [
    {
     "name": "stdout",
     "output_type": "stream",
     "text": [
      "[0.06666667 0.         0.13333333 0.04444444 0.08888889 0.11111111\n",
      " 0.02222222 0.31111111 0.44444444 0.2        0.26666667 0.46666667\n",
      " 0.33333333 0.15555556 0.57777778 0.35555556 0.17777778 0.28888889\n",
      " 0.37777778 0.22222222 0.48888889 0.24444444 0.4        0.53333333\n",
      " 0.55555556 0.42222222 0.68888889 1.         0.51111111]\n"
     ]
    }
   ],
   "source": [
    "a = data[\"lymph_nodes_examined_positive\"].unique()\n",
    "print(a)\n"
   ]
  },
  {
   "cell_type": "code",
   "execution_count": 35,
   "metadata": {},
   "outputs": [
    {
     "name": "stdout",
     "output_type": "stream",
     "text": [
      "[ 2.  7.  3. 10.  1.  5.  9.  4.  6.  8. nan 12. 13. 22. 14. 17. 11. 16.\n",
      " 15. 20. 30. 46. 26. 21. 40. 28. 23. 19. 24. 80.]\n"
     ]
    }
   ],
   "source": [
    "a = data[\"mutation_count\"].unique()\n",
    "print(a)"
   ]
  },
  {
   "cell_type": "code",
   "execution_count": 36,
   "metadata": {},
   "outputs": [],
   "source": [
    "most_frequent_value = data['mutation_count'].mode()[0]\n",
    "data['mutation_count'] = data['mutation_count'].fillna(most_frequent_value)\n",
    "scaler = MinMaxScaler()\n",
    "data['mutation_count'] = scaler.fit_transform(data[['mutation_count']])\n",
    "data.to_csv(\"Version1_data_breast.csv\", index = False)"
   ]
  },
  {
   "cell_type": "code",
   "execution_count": 37,
   "metadata": {},
   "outputs": [
    {
     "name": "stdout",
     "output_type": "stream",
     "text": [
      "[0.01265823 0.07594937 0.02531646 0.11392405 0.         0.05063291\n",
      " 0.10126582 0.03797468 0.06329114 0.08860759 0.13924051 0.15189873\n",
      " 0.26582278 0.16455696 0.20253165 0.12658228 0.18987342 0.17721519\n",
      " 0.24050633 0.36708861 0.56962025 0.3164557  0.25316456 0.49367089\n",
      " 0.34177215 0.27848101 0.2278481  0.29113924 1.        ]\n"
     ]
    }
   ],
   "source": [
    "a = data[\"mutation_count\"].unique()\n",
    "print(a)"
   ]
  },
  {
   "cell_type": "code",
   "execution_count": 38,
   "metadata": {},
   "outputs": [
    {
     "name": "stdout",
     "output_type": "stream",
     "text": [
      "[5.16    2.046   6.056   3.028   5.052   5.07    4.04    6.07    3.05\n",
      " 4.036   6.09    2.044   5.056   3.04    4.07    4.016   4.06    6.044\n",
      " 5.036   6.1     4.11    4.05    3.034   6.04    4.058   4.054   4.026\n",
      " 4.08    5.062   3.02    5.14    4.078   5.038   2.03    2.024   3.024\n",
      " 3.03    6.12    3.056   4.0354  4.03    2.06    5.0256  3.06    5.044\n",
      " 6.06    5.124   3.036   3.042   5.048   3.046   5.06    5.024   3.11\n",
      " 3.022   5.032   4.056   5.134   5.076   3.1     3.032   5.042   6.068\n",
      " 6.058   3.052   5.028   2.052   4.042   4.038   5.04    4.046   3.074\n",
      " 4.062   4.076   5.092   4.002   4.044   6.074   4.074   4.02    5.05\n",
      " 6.094   3.08    4.028   4.2     6.052   5.068   5.104   4.045   1.05\n",
      " 6.036   4.1     4.0652  6.046   4.09    3.0252  3.044   6.08    2.026\n",
      " 2.05    2.02    6.032   4.024   5.03    5.058   6.034   1.06    3.038\n",
      " 5.106   3.026   4.064   5.064   4.034   3.043   5.1     2.002   3.058\n",
      " 3.068   6.32    5.13    3.084   2.034   6.048   3.00424 5.074   4.12\n",
      " 6.05    4.084   3.122   4.032   6.062   6.03    2.042   1.04    6.076\n",
      " 1.03    4.006   4.022   5.022   2.032   1.076   3.066   4.052   6.002\n",
      " 3.0502  6.038   1.02    5.15    3.025   2.096   1.042   2.018   3.\n",
      " 5.046   5.034   3.002   5.084   2.04    5.02    3.086   2.054   6.054\n",
      " 6.028   5.09    6.072   5.364   3.198   4.102   4.136   5.026   4.158\n",
      " 2.048   6.198   3.054   4.086   5.08    5.072   4.068   5.054   3.0046\n",
      " 2.0806  5.012   2.124   5.066   1.054   1.034   3.048   3.018   4.092\n",
      " 2.092   6.026   2.08    5.037   3.14    4.029   3.064   3.096   4.0358\n",
      " 3.016   6.36    6.0483  3.142   6.168   5.0324  6.3     4.01    5.12\n",
      " 5.      5.11    4.048   3.031   6.11    2.022   6.064   3.07    6.096\n",
      " 5.18    2.036   6.13    4.031   5.088   3.0236  6.042   4.072   3.13\n",
      " 1.024   2.066   4.124   5.0344  6.106   2.014   4.025   4.004   4.057\n",
      " 6.16    6.084   1.028   3.12    2.038   4.15    6.02    6.0622  3.012\n",
      " 6.      2.1     2.0276  1.12    4.0366  4.043   3.16    3.006   6.104\n",
      " 4.      2.072   3.0314  2.028   4.0488  6.2     4.018   5.002   5.01\n",
      " 5.004   2.086   5.011   2.114   4.13    6.086   4.094   3.078   3.0432\n",
      " 6.088   2.     ]\n"
     ]
    }
   ],
   "source": [
    "a = data[\"nottingham_prognostic_index\"].unique()\n",
    "print(a)"
   ]
  },
  {
   "cell_type": "code",
   "execution_count": 39,
   "metadata": {},
   "outputs": [],
   "source": [
    "most_frequent_value = data['nottingham_prognostic_index'].mode()[0]\n",
    "data['nottingham_prognostic_index'] = data['nottingham_prognostic_index'].fillna(most_frequent_value)\n",
    "scaler = MinMaxScaler()\n",
    "data['nottingham_prognostic_index'] = scaler.fit_transform(data[['nottingham_prognostic_index']])\n",
    "data.to_csv(\"Version1_data_breast.csv\", index = False)"
   ]
  },
  {
   "cell_type": "code",
   "execution_count": 40,
   "metadata": {},
   "outputs": [
    {
     "name": "stdout",
     "output_type": "stream",
     "text": [
      "[7.75280899e-01 1.92134831e-01 9.43071161e-01 3.76029963e-01\n",
      " 7.55056180e-01 7.58426966e-01 5.65543071e-01 9.45692884e-01\n",
      " 3.80149813e-01 5.64794007e-01 9.49438202e-01 1.91760300e-01\n",
      " 7.55805243e-01 3.78277154e-01 5.71161049e-01 5.61048689e-01\n",
      " 5.69288390e-01 9.40823970e-01 7.52059925e-01 9.51310861e-01\n",
      " 5.78651685e-01 5.67415730e-01 3.77153558e-01 9.40074906e-01\n",
      " 5.68913858e-01 5.68164794e-01 5.62921348e-01 5.73033708e-01\n",
      " 7.56928839e-01 3.74531835e-01 7.71535581e-01 5.72659176e-01\n",
      " 7.52434457e-01 1.89138577e-01 1.88014981e-01 3.75280899e-01\n",
      " 3.76404494e-01 9.55056180e-01 3.81273408e-01 5.64681648e-01\n",
      " 5.63670412e-01 1.94756554e-01 7.50112360e-01 3.82022472e-01\n",
      " 7.53558052e-01 9.43820225e-01 7.68539326e-01 3.77528090e-01\n",
      " 3.78651685e-01 7.54307116e-01 3.79400749e-01 7.56554307e-01\n",
      " 7.49812734e-01 3.91385768e-01 3.74906367e-01 7.51310861e-01\n",
      " 5.68539326e-01 7.70411985e-01 7.59550562e-01 3.89513109e-01\n",
      " 3.76779026e-01 7.53183521e-01 9.45318352e-01 9.43445693e-01\n",
      " 3.80524345e-01 7.50561798e-01 1.93258427e-01 5.65917603e-01\n",
      " 5.65168539e-01 7.52808989e-01 5.66666667e-01 3.84644195e-01\n",
      " 5.69662921e-01 5.72284644e-01 7.62546816e-01 5.58426966e-01\n",
      " 5.66292135e-01 9.46441948e-01 5.71910112e-01 5.61797753e-01\n",
      " 7.54681648e-01 9.50187266e-01 3.85767790e-01 5.63295880e-01\n",
      " 5.95505618e-01 9.42322097e-01 7.58052434e-01 7.64794007e-01\n",
      " 5.66479401e-01 5.61797753e-03 9.39325843e-01 5.76779026e-01\n",
      " 5.70262172e-01 9.41198502e-01 5.74906367e-01 3.75505618e-01\n",
      " 3.79026217e-01 9.47565543e-01 1.88389513e-01 1.92883895e-01\n",
      " 1.87265918e-01 9.38576779e-01 5.62546816e-01 7.50936330e-01\n",
      " 7.56179775e-01 9.38951311e-01 7.49063670e-03 3.77902622e-01\n",
      " 7.65168539e-01 3.75655431e-01 5.70037453e-01 7.57303371e-01\n",
      " 5.64419476e-01 3.78838951e-01 7.64044944e-01 1.83895131e-01\n",
      " 3.81647940e-01 3.83520599e-01 9.92509363e-01 7.69662921e-01\n",
      " 3.86516854e-01 1.89887640e-01 9.41573034e-01 3.71580524e-01\n",
      " 7.59176030e-01 5.80524345e-01 9.41947566e-01 5.73782772e-01\n",
      " 3.93632959e-01 5.64044944e-01 9.44194757e-01 9.38202247e-01\n",
      " 1.91385768e-01 3.74531835e-03 9.46816479e-01 1.87265918e-03\n",
      " 5.59176030e-01 5.62172285e-01 7.49438202e-01 1.89513109e-01\n",
      " 1.04868914e-02 3.83146067e-01 5.67790262e-01 9.32958801e-01\n",
      " 3.80187266e-01 9.39700375e-01 0.00000000e+00 7.73408240e-01\n",
      " 3.75468165e-01 2.01498127e-01 4.11985019e-03 1.86891386e-01\n",
      " 3.70786517e-01 7.53932584e-01 7.51685393e-01 3.71161049e-01\n",
      " 7.61048689e-01 1.91011236e-01 7.49063670e-01 3.86891386e-01\n",
      " 1.93632959e-01 9.42696629e-01 9.37827715e-01 7.62172285e-01\n",
      " 9.46067416e-01 8.13483146e-01 4.07865169e-01 5.77153558e-01\n",
      " 5.83520599e-01 7.50187266e-01 5.87640449e-01 1.92509363e-01\n",
      " 9.69662921e-01 3.80898876e-01 5.74157303e-01 7.60299625e-01\n",
      " 7.58801498e-01 5.70786517e-01 7.55430712e-01 3.71647940e-01\n",
      " 1.98614232e-01 7.47565543e-01 2.06741573e-01 7.57677903e-01\n",
      " 6.36704120e-03 2.62172285e-03 3.79775281e-01 3.74157303e-01\n",
      " 5.75280899e-01 2.00749064e-01 9.37453184e-01 1.98501873e-01\n",
      " 7.52247191e-01 3.97003745e-01 5.63483146e-01 3.82771536e-01\n",
      " 3.88764045e-01 5.64756554e-01 3.73782772e-01 1.00000000e+00\n",
      " 9.41629213e-01 3.97378277e-01 9.64044944e-01 7.51385768e-01\n",
      " 9.88764045e-01 5.59925094e-01 7.67790262e-01 7.45318352e-01\n",
      " 7.65917603e-01 5.67041199e-01 3.76591760e-01 9.53183521e-01\n",
      " 1.87640449e-01 9.44569288e-01 3.83895131e-01 9.50561798e-01\n",
      " 7.79026217e-01 1.90262172e-01 9.56928839e-01 5.63857678e-01\n",
      " 7.61797753e-01 3.75205993e-01 9.40449438e-01 5.71535581e-01\n",
      " 3.95131086e-01 7.49063670e-04 1.95880150e-01 5.81273408e-01\n",
      " 7.51760300e-01 9.52434457e-01 1.86142322e-01 5.62734082e-01\n",
      " 5.58801498e-01 5.68726592e-01 9.62546816e-01 9.48314607e-01\n",
      " 1.49812734e-03 3.93258427e-01 1.90636704e-01 5.86142322e-01\n",
      " 9.36329588e-01 9.44232210e-01 3.73033708e-01 9.32584270e-01\n",
      " 2.02247191e-01 1.88689139e-01 1.87265918e-02 5.64906367e-01\n",
      " 5.66104869e-01 4.00749064e-01 3.71910112e-01 9.52059925e-01\n",
      " 5.58052434e-01 1.97003745e-01 3.76666667e-01 1.88764045e-01\n",
      " 5.67191011e-01 9.70037453e-01 5.61423221e-01 7.45692884e-01\n",
      " 7.47191011e-01 7.46067416e-01 1.99625468e-01 7.47378277e-01\n",
      " 2.04868914e-01 5.82397004e-01 9.48689139e-01 5.75655431e-01\n",
      " 3.85393258e-01 3.78876404e-01 9.49063670e-01 1.83520599e-01]\n"
     ]
    }
   ],
   "source": [
    "a = data[\"nottingham_prognostic_index\"].unique()\n",
    "print(a)"
   ]
  },
  {
   "cell_type": "code",
   "execution_count": 41,
   "metadata": {},
   "outputs": [
    {
     "name": "stdout",
     "output_type": "stream",
     "text": [
      "[111.1         76.86666667 118.7        ... 355.2         29.9\n",
      "  20.83333333]\n"
     ]
    }
   ],
   "source": [
    "a = data[\"overall_survival_months\"].unique()\n",
    "print(a)"
   ]
  },
  {
   "cell_type": "code",
   "execution_count": 42,
   "metadata": {},
   "outputs": [],
   "source": [
    "most_frequent_value = data['overall_survival_months'].mode()[0]\n",
    "data['overall_survival_months'] = data['overall_survival_months'].fillna(most_frequent_value)\n",
    "scaler = MinMaxScaler()\n",
    "data['overall_survival_months'] = scaler.fit_transform(data[['overall_survival_months']])\n",
    "data.to_csv(\"Version1_data_breast.csv\", index = False)"
   ]
  },
  {
   "cell_type": "code",
   "execution_count": 43,
   "metadata": {},
   "outputs": [
    {
     "name": "stdout",
     "output_type": "stream",
     "text": [
      "[0.312588   0.21618323 0.33399043 ... 1.         0.08392002 0.05838731]\n"
     ]
    }
   ],
   "source": [
    "a = data[\"overall_survival_months\"].unique()\n",
    "print(a)"
   ]
  },
  {
   "cell_type": "code",
   "execution_count": 44,
   "metadata": {},
   "outputs": [
    {
     "name": "stdout",
     "output_type": "stream",
     "text": [
      "[0 1]\n"
     ]
    }
   ],
   "source": [
    "a = data[\"overall_survival\"].unique()\n",
    "print(a)"
   ]
  },
  {
   "cell_type": "code",
   "execution_count": 45,
   "metadata": {},
   "outputs": [
    {
     "name": "stdout",
     "output_type": "stream",
     "text": [
      "['Positive' 'Negative' 'Negtive']\n"
     ]
    }
   ],
   "source": [
    "a = data[\"pr_status\"].unique()\n",
    "print(a)"
   ]
  },
  {
   "cell_type": "code",
   "execution_count": 46,
   "metadata": {},
   "outputs": [],
   "source": [
    "mapping = { \"Positive\" : 1,\n",
    "            \"Negative\" : 0,\n",
    "          }\n",
    "data[\"pr_status\"] = data[\"pr_status\"].map(mapping)\n",
    "data.to_csv(\"Version1_data_breast.csv\", index = False)"
   ]
  },
  {
   "cell_type": "code",
   "execution_count": 47,
   "metadata": {},
   "outputs": [
    {
     "name": "stdout",
     "output_type": "stream",
     "text": [
      "[1 0]\n"
     ]
    }
   ],
   "source": [
    "a = data[\"radio_therapy\"].unique()\n",
    "print(a)"
   ]
  },
  {
   "cell_type": "code",
   "execution_count": 48,
   "metadata": {},
   "outputs": [
    {
     "name": "stdout",
     "output_type": "stream",
     "text": [
      "['ER+/HER2- High Prolif' 'ER+/HER2- Low Prolif' 'HER2+' 'ER-/HER2-' nan]\n"
     ]
    }
   ],
   "source": [
    "a = data[\"3-gene_classifier_subtype\"].unique()\n",
    "print(a)"
   ]
  },
  {
   "cell_type": "code",
   "execution_count": 49,
   "metadata": {},
   "outputs": [],
   "source": [
    "label_encoder = LabelEncoder()\n",
    "data['3-gene_classifier_subtype'] = label_encoder.fit_transform(data['3-gene_classifier_subtype'])\n",
    "\n",
    "scaler = MinMaxScaler()\n",
    "data['3-gene_classifier_subtype'] = scaler.fit_transform(data[['3-gene_classifier_subtype']])\n",
    "data.to_csv(\"Version1_data_breast.csv\", index = False)"
   ]
  },
  {
   "cell_type": "code",
   "execution_count": 50,
   "metadata": {},
   "outputs": [
    {
     "name": "stdout",
     "output_type": "stream",
     "text": [
      "[0.   0.25 0.75 0.5  1.  ]\n"
     ]
    }
   ],
   "source": [
    "a = data[\"3-gene_classifier_subtype\"].unique()\n",
    "print(a)"
   ]
  },
  {
   "cell_type": "code",
   "execution_count": 51,
   "metadata": {},
   "outputs": [
    {
     "name": "stdout",
     "output_type": "stream",
     "text": [
      "[ 80.    23.    28.    14.    26.    35.    20.    25.    18.    45.\n",
      "  22.     8.    30.    50.    55.    17.    29.    27.    13.    40.\n",
      "  31.    10.    70.    39.    19.    15.    12.    60.    17.7   12.8\n",
      "  62.    21.    24.    11.    16.    67.    38.    34.    37.    46.\n",
      "   1.    47.   100.    52.    22.5   32.6   12.6   53.    32.    21.5\n",
      " 160.    65.    42.     2.12  61.     3.    33.    25.1   75.    12.5\n",
      "  48.     9.      nan  43.    36.   182.    99.    51.    68.    79.\n",
      "   2.3   40.3    6.    18.5   14.5   17.9  180.    24.15  71.    84.\n",
      "  16.2  150.     5.    15.5   90.    44.    11.8   17.2    7.     2.\n",
      "  28.5   31.1   13.8   18.3   15.7   24.4    5.5   57.    21.6 ]\n"
     ]
    }
   ],
   "source": [
    "a = data[\"tumor_size\"].unique()\n",
    "print(a)"
   ]
  },
  {
   "cell_type": "code",
   "execution_count": 52,
   "metadata": {},
   "outputs": [],
   "source": [
    "most_frequent_value = data['tumor_size'].mode()[0]\n",
    "data['tumor_size'] = data['tumor_size'].fillna(most_frequent_value)\n",
    "scaler = MinMaxScaler()\n",
    "data['tumor_size'] = scaler.fit_transform(data[['tumor_size']])\n",
    "data.to_csv(\"Version1_data_breast.csv\", index = False)"
   ]
  },
  {
   "cell_type": "code",
   "execution_count": 53,
   "metadata": {},
   "outputs": [
    {
     "name": "stdout",
     "output_type": "stream",
     "text": [
      "[0.43646409 0.12154696 0.14917127 0.0718232  0.13812155 0.1878453\n",
      " 0.10497238 0.13259669 0.09392265 0.24309392 0.1160221  0.03867403\n",
      " 0.16022099 0.27071823 0.29834254 0.08839779 0.15469613 0.14364641\n",
      " 0.06629834 0.21546961 0.16574586 0.04972376 0.38121547 0.20994475\n",
      " 0.09944751 0.07734807 0.06077348 0.32596685 0.09226519 0.06519337\n",
      " 0.33701657 0.11049724 0.12707182 0.05524862 0.08287293 0.36464088\n",
      " 0.20441989 0.18232044 0.19889503 0.24861878 0.         0.25414365\n",
      " 0.54696133 0.28176796 0.11878453 0.17458564 0.0640884  0.28729282\n",
      " 0.17127072 0.11325967 0.87845304 0.35359116 0.22651934 0.00618785\n",
      " 0.33149171 0.01104972 0.17679558 0.13314917 0.40883978 0.06353591\n",
      " 0.25966851 0.0441989  0.2320442  0.19337017 1.         0.54143646\n",
      " 0.27624309 0.37016575 0.43093923 0.00718232 0.21712707 0.02762431\n",
      " 0.09668508 0.07458564 0.09337017 0.98895028 0.12790055 0.38674033\n",
      " 0.45856354 0.0839779  0.82320442 0.02209945 0.0801105  0.49171271\n",
      " 0.23756906 0.05966851 0.08950276 0.03314917 0.00552486 0.1519337\n",
      " 0.16629834 0.07071823 0.09558011 0.08121547 0.12928177 0.02486188\n",
      " 0.30939227 0.11381215]\n"
     ]
    }
   ],
   "source": [
    "a = data[\"tumor_size\"].unique()\n",
    "print(a)"
   ]
  },
  {
   "cell_type": "code",
   "execution_count": 54,
   "metadata": {},
   "outputs": [
    {
     "name": "stdout",
     "output_type": "stream",
     "text": [
      "[ 3. nan  1.  2.  4.  0.]\n"
     ]
    }
   ],
   "source": [
    "a = data[\"tumor_stage\"].unique()\n",
    "print(a)"
   ]
  },
  {
   "cell_type": "code",
   "execution_count": 55,
   "metadata": {},
   "outputs": [],
   "source": [
    "most_frequent_value = data['tumor_stage'].mode()[0]\n",
    "data['tumor_stage'] = data['tumor_stage'].fillna(most_frequent_value)\n",
    "scaler = MinMaxScaler()\n",
    "data['tumor_stage'] = scaler.fit_transform(data[['tumor_stage']])\n",
    "data.to_csv(\"Version1_data_breast.csv\", index = False)"
   ]
  },
  {
   "cell_type": "code",
   "execution_count": 56,
   "metadata": {},
   "outputs": [
    {
     "name": "stdout",
     "output_type": "stream",
     "text": [
      "[0.75 0.5  0.25 1.   0.  ]\n"
     ]
    }
   ],
   "source": [
    "a = data[\"tumor_stage\"].unique()\n",
    "print(a)"
   ]
  },
  {
   "cell_type": "code",
   "execution_count": 57,
   "metadata": {},
   "outputs": [
    {
     "name": "stdout",
     "output_type": "stream",
     "text": [
      "['Died of Disease' 'Living' 'Died of Other Causes' nan]\n"
     ]
    }
   ],
   "source": [
    "a = data[\"death_from_cancer\"].unique()\n",
    "print(a)"
   ]
  },
  {
   "cell_type": "code",
   "execution_count": 58,
   "metadata": {},
   "outputs": [],
   "source": [
    "from sklearn.preprocessing import LabelEncoder, MinMaxScaler\n",
    "\n",
    "most_frequent_value = data['death_from_cancer'].mode()[0]\n",
    "data['death_from_cancer'] = data['death_from_cancer'].replace(2.0, most_frequent_value)\n",
    "\n",
    "label_encoder = LabelEncoder()\n",
    "data['death_from_cancer'] = label_encoder.fit_transform(data['death_from_cancer'])\n",
    "scaler = MinMaxScaler()\n",
    "data[['death_from_cancer']] = scaler.fit_transform(data[['death_from_cancer']])\n",
    "\n",
    "data.to_csv(\"Version1_data_breast.csv\", index=False)\n"
   ]
  },
  {
   "cell_type": "code",
   "execution_count": 59,
   "metadata": {},
   "outputs": [
    {
     "name": "stdout",
     "output_type": "stream",
     "text": [
      "[0.         0.66666667 0.33333333 1.        ]\n"
     ]
    }
   ],
   "source": [
    "a = data[\"death_from_cancer\"].unique()\n",
    "print(a)"
   ]
  },
  {
   "cell_type": "code",
   "execution_count": 60,
   "metadata": {},
   "outputs": [
    {
     "name": "stdout",
     "output_type": "stream",
     "text": [
      "Processed file saved to Version1_data_breast.csv\n"
     ]
    }
   ],
   "source": [
    "\n",
    "# Iterate over each column\n",
    "for column in data.columns:\n",
    "    if data[column].isnull().any():  # Check if there are NaN values in the column\n",
    "        mode = data[column].mode()[0]  # Calculate the mode (most frequent value)\n",
    "        data[column] = data[column].fillna(mode)  # Replace NaN with the mode\n",
    "\n",
    "# Save the modified DataFrame back to a CSV file\n",
    "output_file_path = 'Version1_data_breast.csv'  # Replace with the desired output file path\n",
    "data.to_csv(output_file_path, index=False)\n",
    "\n",
    "print(f\"Processed file saved to {output_file_path}\")\n"
   ]
  },
  {
   "cell_type": "code",
   "execution_count": 61,
   "metadata": {},
   "outputs": [],
   "source": [
    "from imblearn.over_sampling import SMOTE  # Import SMOTE for handling imbalance\n"
   ]
  },
  {
   "cell_type": "code",
   "execution_count": 62,
   "metadata": {},
   "outputs": [],
   "source": [
    "df = pd.read_csv(\"Version1_data_breast.csv\")\n",
    "X = df.copy()  \n",
    "y = df[\"cancer_type\"]\n",
    "non_target_columns = X.drop(columns=[\"cancer_type\"]).columns\n",
    "X_encoded = pd.get_dummies(X[non_target_columns])\n",
    "X_encoded[\"cancer_type\"] = y\n",
    "original_columns = X_encoded.columns\n",
    "smote = SMOTE(random_state=42)\n",
    "X_smote, y_smote = smote.fit_resample(X_encoded.drop(columns=[\"cancer_type\"]), X_encoded[\"cancer_type\"])\n",
    "X_smote = pd.DataFrame(X_smote, columns=original_columns.drop(\"cancer_type\"))\n",
    "X_smote[\"cancer_type\"] = y_smote\n",
    "smote_df = X_smote\n",
    "smote_df.to_csv(\"Final_Version_data_breast.csv\", index=False)\n",
    "\n",
    "\n",
    "data = pd.read_csv('Final_Version_data_breast.csv')\n",
    "train_data, test_data = train_test_split(data, test_size=0.2, random_state=42)\n",
    "train_data.to_csv('Final_Version_data_breast.csv', index=False)\n",
    "test_data.to_csv('Test_Set.csv', index=False)"
   ]
  },
  {
   "cell_type": "markdown",
   "metadata": {},
   "source": [
    "2-1"
   ]
  },
  {
   "cell_type": "code",
   "execution_count": 63,
   "metadata": {},
   "outputs": [
    {
     "name": "stderr",
     "output_type": "stream",
     "text": [
      "C:\\Users\\Hassa\\AppData\\Local\\Temp\\ipykernel_32276\\3719556240.py:2: DtypeWarning: Columns (662,664,676,677,683,685,686,687) have mixed types. Specify dtype option on import or set low_memory=False.\n",
      "  data = pd.read_csv(\"Original_data_breast.csv\")\n"
     ]
    }
   ],
   "source": [
    "import pandas as pd\n",
    "data = pd.read_csv(\"Original_data_breast.csv\")\n",
    "part2 = data.iloc[:,27:515]\n",
    "part2.to_csv(\"Version2_data_breast.csv\",index = False)\n"
   ]
  },
  {
   "cell_type": "code",
   "execution_count": 64,
   "metadata": {},
   "outputs": [],
   "source": [
    "import pandas as pd\n",
    "from sklearn.preprocessing import MinMaxScaler\n",
    "\n",
    "data = pd.read_csv(\"Version2_data_breast.csv\")\n",
    "for column in data.columns:\n",
    "    mode_value = data[column].mode()[0]  # Compute the mode\n",
    "    data[column] = data[column].fillna(mode_value)  # Replace NaN with mode\n",
    "scaler = MinMaxScaler()\n",
    "data = pd.DataFrame(scaler.fit_transform(data), columns=data.columns)\n",
    "data.to_csv(\"Version2_data_breast.csv\", index=False)\n"
   ]
  },
  {
   "cell_type": "code",
   "execution_count": 65,
   "metadata": {},
   "outputs": [],
   "source": [
    "import pandas as pd\n",
    "from sklearn.preprocessing import MinMaxScaler\n",
    "\n",
    "data = pd.read_csv(\"Version2_data_breast.csv\")\n",
    "\n",
    "for column in data.columns:\n",
    "    mode_value = data[column].mode()[0]  # Compute the mode\n",
    "    data[column] = data[column].fillna(mode_value)  # Replace NaN with mode\n",
    "\n",
    "scaler = MinMaxScaler()\n",
    "scaled_data = scaler.fit_transform(data.values.flatten().reshape(-1, 1))\n",
    "data = pd.DataFrame(scaled_data.reshape(data.shape), columns=data.columns)\n",
    "\n",
    "data.to_csv(\"Version2_data_breast.csv\", index=False)\n"
   ]
  },
  {
   "cell_type": "markdown",
   "metadata": {},
   "source": [
    "2-2"
   ]
  },
  {
   "cell_type": "code",
   "execution_count": 66,
   "metadata": {},
   "outputs": [
    {
     "name": "stderr",
     "output_type": "stream",
     "text": [
      "C:\\Users\\Hassa\\AppData\\Local\\Temp\\ipykernel_32276\\3719556240.py:2: DtypeWarning: Columns (662,664,676,677,683,685,686,687) have mixed types. Specify dtype option on import or set low_memory=False.\n",
      "  data = pd.read_csv(\"Original_data_breast.csv\")\n"
     ]
    }
   ],
   "source": [
    "import pandas as pd\n",
    "data = pd.read_csv(\"Original_data_breast.csv\")\n",
    "part2 = data.iloc[:,27:515]\n",
    "part2.to_csv(\"Version2_data_breast.csv\",index = False)\n"
   ]
  },
  {
   "cell_type": "code",
   "execution_count": 67,
   "metadata": {},
   "outputs": [],
   "source": [
    "import pandas as pd\n",
    "from sklearn.preprocessing import MinMaxScaler, StandardScaler, RobustScaler\n",
    "from scipy.stats import skew, kurtosis\n",
    "\n",
    "data = pd.read_csv(\"Version2_data_breast.csv\")\n",
    "\n",
    "for column in data.columns:\n",
    "    mode_value = data[column].mode()[0]\n",
    "    data[column] = data[column].fillna(mode_value)\n",
    "\n",
    "normalizer = MinMaxScaler()\n",
    "standardizer = StandardScaler()\n",
    "robust_scaler = RobustScaler()\n",
    "columns_to_normalize = []\n",
    "columns_to_standardize = []\n",
    "columns_to_robust_scale = []\n",
    "columns_to_leave_unchanged = []\n",
    "\n",
    "for column in data.columns:\n",
    "    if data[column].dtype in ['float64', 'int64']:  # Only process numeric columns\n",
    "        col_data = data[column]\n",
    "        col_min = col_data.min()\n",
    "        col_max = col_data.max()\n",
    "        col_range = col_max - col_min\n",
    "        col_std = col_data.std()\n",
    "        col_mean = col_data.mean()\n",
    "        col_skew = skew(col_data)\n",
    "        col_kurtosis = kurtosis(col_data)\n",
    "        if col_min >= 0 and col_max <= 1:\n",
    "            columns_to_leave_unchanged.append(column)\n",
    "        elif col_range > 1000:\n",
    "            columns_to_normalize.append(column)\n",
    "        elif abs(col_skew) < 0.5 and abs(col_kurtosis) < 3:\n",
    "            columns_to_standardize.append(column)\n",
    "        else:\n",
    "            columns_to_robust_scale.append(column)\n",
    "\n",
    "\n",
    "if columns_to_normalize:\n",
    "    data[columns_to_normalize] = normalizer.fit_transform(data[columns_to_normalize])\n",
    "if columns_to_standardize:\n",
    "    data[columns_to_standardize] = standardizer.fit_transform(data[columns_to_standardize])\n",
    "if columns_to_robust_scale:\n",
    "    data[columns_to_robust_scale] = robust_scaler.fit_transform(data[columns_to_robust_scale])\n",
    "\n",
    "data.to_csv(\"Version2_data_breast.csv\", index=False)\n"
   ]
  },
  {
   "cell_type": "markdown",
   "metadata": {},
   "source": [
    "3-1"
   ]
  },
  {
   "cell_type": "code",
   "execution_count": 68,
   "metadata": {},
   "outputs": [
    {
     "name": "stderr",
     "output_type": "stream",
     "text": [
      "C:\\Users\\Hassa\\AppData\\Local\\Temp\\ipykernel_32276\\3578772791.py:2: DtypeWarning: Columns (662,664,676,677,683,685,686,687) have mixed types. Specify dtype option on import or set low_memory=False.\n",
      "  data = pd.read_csv(\"Original_data_breast.csv\")\n"
     ]
    }
   ],
   "source": [
    "import pandas as pd\n",
    "data = pd.read_csv(\"Original_data_breast.csv\")\n",
    "part3 = data.iloc[:,516:]\n",
    "part3.to_csv(\"Version3_data_breast.csv\",index = False)"
   ]
  },
  {
   "cell_type": "code",
   "execution_count": 69,
   "metadata": {},
   "outputs": [],
   "source": [
    "import pandas as pd\n",
    "\n",
    "file_path = \"Version3_data_breast.csv\"  \n",
    "df = pd.read_csv(file_path)\n",
    "desired_columns = 20 #######################\n",
    "if desired_columns > df.shape[1]:\n",
    "    raise ValueError(\"Desired number of columns exceeds the current number of columns.\")\n",
    "\n",
    "columns_per_new_column = -(-df.shape[1] // desired_columns)  # Ceiling division\n",
    "new_columns = []\n",
    "for i in range(0, df.shape[1], columns_per_new_column):\n",
    "    subset = df.iloc[:, i:i + columns_per_new_column]\n",
    "    concatenated_column = subset.apply(\n",
    "        lambda row: ' '.join(val for val in row.astype(str) if val != '0') or '0', axis=1\n",
    "    )\n",
    "    new_columns.append(concatenated_column)\n",
    "\n",
    "new_df = pd.DataFrame({f'col_{i+1}': col for i, col in enumerate(new_columns)})\n",
    "new_df.to_csv(file_path, index=False)\n"
   ]
  },
  {
   "cell_type": "code",
   "execution_count": 70,
   "metadata": {},
   "outputs": [],
   "source": [
    "import pandas as pd\n",
    "from sklearn.preprocessing import LabelEncoder\n",
    "\n",
    "file_path = \"Version3_data_breast.csv\" \n",
    "df = pd.read_csv(file_path)\n",
    "label_encoder = LabelEncoder()\n",
    "def encode_column(col):\n",
    "    col_as_str = col.astype(str)\n",
    "    encoded = label_encoder.fit_transform(col_as_str)\n",
    "    return encoded\n",
    "df_encoded = df.apply(encode_column)\n",
    "df_encoded.to_csv(file_path, index=False)\n"
   ]
  },
  {
   "cell_type": "code",
   "execution_count": 71,
   "metadata": {},
   "outputs": [],
   "source": [
    "import pandas as pd\n",
    "from sklearn.preprocessing import MinMaxScaler\n",
    "file_path = \"Version3_data_breast.csv\"  \n",
    "df = pd.read_csv(file_path)\n",
    "scaler = MinMaxScaler()\n",
    "df_normalized = pd.DataFrame(scaler.fit_transform(df), columns=df.columns)\n",
    "df_normalized.to_csv(file_path, index=False)\n",
    "\n",
    "\n",
    "file_path = \"Version3_data_breast.csv\"\n",
    "df = pd.read_csv(file_path)\n",
    "scaler = MinMaxScaler()\n",
    "scaled_values = scaler.fit_transform(df.values.flatten().reshape(-1, 1))\n",
    "df_normalized = pd.DataFrame(scaled_values.reshape(df.shape), columns=df.columns)\n",
    "df_normalized.to_csv(file_path, index=False)"
   ]
  }
 ],
 "metadata": {
  "kernelspec": {
   "display_name": "Python 3",
   "language": "python",
   "name": "python3"
  },
  "language_info": {
   "codemirror_mode": {
    "name": "ipython",
    "version": 3
   },
   "file_extension": ".py",
   "mimetype": "text/x-python",
   "name": "python",
   "nbconvert_exporter": "python",
   "pygments_lexer": "ipython3",
   "version": "3.12.0"
  }
 },
 "nbformat": 4,
 "nbformat_minor": 2
}
